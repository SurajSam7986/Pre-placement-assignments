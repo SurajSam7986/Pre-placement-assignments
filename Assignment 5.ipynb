{
 "cells": [
  {
   "cell_type": "markdown",
   "id": "c08b5338-8300-47e7-9ede-a14d429406c0",
   "metadata": {},
   "source": [
    "\n",
    "# 💡 **Question 1**\n",
    "\n",
    "Convert 1D Array Into 2D Array\n",
    "\n",
    "You are given a **0-indexed** 1-dimensional (1D) integer array original, and two integers, m and n. You are tasked with creating a 2-dimensional (2D) array with  m rows and n columns using **all** the elements from original.\n",
    "\n",
    "The elements from indices 0 to n - 1 (**inclusive**) of original should form the first row of the constructed 2D array, the elements from indices n to 2 * n - 1 (**inclusive**) should form the second row of the constructed 2D array, and so on.\n",
    "\n",
    "Return *an* m x n *2D array constructed according to the above procedure, or an empty 2D array if it is impossible*.\n",
    "\n",
    "**Example 1:**\n",
    "\n",
    "**Input:** original = [1,2,3,4], m = 2, n = 2\n",
    "\n",
    "**Output:** [[1,2],[3,4]]\n",
    "\n",
    "**Explanation:** The constructed 2D array should contain 2 rows and 2 columns.\n",
    "\n",
    "The first group of n=2 elements in original, [1,2], becomes the first row in the constructed 2D array.\n",
    "\n",
    "The second group of n=2 elements in original, [3,4], becomes the second row in the constructed 2D array.\n",
    "\n",
    "</aside>"
   ]
  },
  {
   "cell_type": "markdown",
   "id": "153c1083-dcee-4f25-a39a-2fe602afab64",
   "metadata": {},
   "source": [
    "# Answer\n",
    "To convert the given 1D array into a 2D array as described in the problem, we need to split the original array into chunks of size n and then create rows using those chunks. If the total number of elements in the original array is not divisible by n, then it's impossible to create the desired m x n 2D array."
   ]
  },
  {
   "cell_type": "code",
   "execution_count": 2,
   "id": "8ba1cce5-aa39-4a9d-ac82-764530050471",
   "metadata": {},
   "outputs": [
    {
     "name": "stdout",
     "output_type": "stream",
     "text": [
      "[[1, 2], [3, 4]]\n"
     ]
    }
   ],
   "source": [
    "def convert_to_2d_array(original, m, n):\n",
    "    if m * n != len(original):\n",
    "        return []\n",
    "\n",
    "    # Split the original array into chunks of size n\n",
    "    chunks = [original[i:i+n] for i in range(0, len(original), n)]\n",
    "\n",
    "    # Create the 2D array\n",
    "    result = [chunks[i] for i in range(m)]\n",
    "\n",
    "    return result\n",
    "\n",
    "# Test example\n",
    "original = [1, 2, 3, 4]\n",
    "m = 2\n",
    "n = 2\n",
    "output = convert_to_2d_array(original, m, n)\n",
    "print(output)  # Output: [[1, 2], [3, 4]]\n"
   ]
  },
  {
   "cell_type": "markdown",
   "id": "cc074bca-8bfc-488e-82e4-dcc03c67e3a6",
   "metadata": {},
   "source": [
    "<aside>\n",
    "💡 **Question 2**\n",
    "\n",
    "You have n coins and you want to build a staircase with these coins. The staircase consists of k rows where the ith row has exactly i coins. The last row of the staircase **may be** incomplete.\n",
    "\n",
    "Given the integer n, return *the number of **complete rows** of the staircase you will build*.\n",
    "\n",
    "**Example 1:**\n",
    "    \n",
    "    \n",
    "**Input:** n = 5\n",
    "\n",
    "**Output:** 2\n",
    "\n",
    "**Explanation:** Because the 3rd row is incomplete, we return 2."
   ]
  },
  {
   "cell_type": "markdown",
   "id": "3b7ca42c-6974-4e73-9223-4f468288fc90",
   "metadata": {},
   "source": [
    "# Answer\n",
    "To find the number of complete rows of the staircase with n coins, we need to determine how many complete rows of coins we can form with the given number.\n",
    "\n",
    "The number of coins needed to form the first k rows of the staircase can be calculated using the sum of the first k natural numbers, which is given by the formula: sum = (k * (k + 1)) / 2.\n",
    "\n",
    "We will iterate over k until the sum becomes greater than n, and then return k - 1 as the number of complete rows."
   ]
  },
  {
   "cell_type": "code",
   "execution_count": 3,
   "id": "a71f3103-4bb4-4305-b7bb-1e0346ead494",
   "metadata": {},
   "outputs": [
    {
     "name": "stdout",
     "output_type": "stream",
     "text": [
      "2\n"
     ]
    }
   ],
   "source": [
    "def find_complete_rows(n):\n",
    "    k = 1\n",
    "    while (k * (k + 1)) // 2 <= n:\n",
    "        k += 1\n",
    "    return k - 1\n",
    "\n",
    "# Test example\n",
    "n = 5\n",
    "output = find_complete_rows(n)\n",
    "print(output)  # Output: 2\n"
   ]
  },
  {
   "cell_type": "markdown",
   "id": "0407d016-bdf8-4684-8c48-dccfb310316a",
   "metadata": {},
   "source": [
    "# **Question 3**\n",
    "\n",
    "Given an integer array nums sorted in **non-decreasing** order, return *an array of **the squares of each number** sorted in non-decreasing order*.\n",
    "\n",
    "**Example 1:**\n",
    "\n",
    "**Input:** nums = [-4,-1,0,3,10]\n",
    "\n",
    "**Output:** [0,1,9,16,100]\n",
    "\n",
    "**Explanation:** After squaring, the array becomes [16,1,0,9,100].\n",
    "\n",
    "After sorting, it becomes [0,1,9,16,100].\n",
    "\n",
    "</aside>"
   ]
  },
  {
   "cell_type": "markdown",
   "id": "eeee43f1-a2a7-4898-a2c7-2c1c04ddfde9",
   "metadata": {},
   "source": [
    "# Answer\n",
    "To solve this problem, we can follow these steps:\n",
    "\n",
    "Square each number in the input array.\n",
    "Sort the squared numbers in non-decreasing order."
   ]
  },
  {
   "cell_type": "code",
   "execution_count": 4,
   "id": "8282b1a3-9d29-4f51-b5ba-1c3fd7700178",
   "metadata": {},
   "outputs": [
    {
     "name": "stdout",
     "output_type": "stream",
     "text": [
      "[0, 1, 9, 16, 100]\n"
     ]
    }
   ],
   "source": [
    "def sorted_squares(nums):\n",
    "    # Square each number in the array\n",
    "    squared_nums = [num ** 2 for num in nums]\n",
    "    \n",
    "    # Sort the squared numbers in non-decreasing order\n",
    "    squared_nums.sort()\n",
    "    \n",
    "    return squared_nums\n",
    "\n",
    "# Test example\n",
    "nums = [-4, -1, 0, 3, 10]\n",
    "output = sorted_squares(nums)\n",
    "print(output)  # Output: [0, 1, 9, 16, 100]\n"
   ]
  },
  {
   "cell_type": "markdown",
   "id": "f6426f13-0a4b-4ee0-a15e-c4a8955f2983",
   "metadata": {},
   "source": [
    "# **Question 4**\n",
    "\n",
    "Given two **0-indexed** integer arrays nums1 and nums2, return *a list* answer *of size* 2 *where:*\n",
    "\n",
    "- answer[0] *is a list of all **distinct** integers in* nums1 *which are **not** present in* nums2*.*\n",
    "- answer[1] *is a list of all **distinct** integers in* nums2 *which are **not** present in* nums1.\n",
    "\n",
    "**Note** that the integers in the lists may be returned in **any** order.\n",
    "\n",
    "**Example 1:**\n",
    "\n",
    "**Input:** nums1 = [1,2,3], nums2 = [2,4,6]\n",
    "\n",
    "**Output:** [[1,3],[4,6]]\n",
    "\n",
    "**Explanation:**\n",
    "\n",
    "For nums1, nums1[1] = 2 is present at index 0 of nums2, whereas nums1[0] = 1 and nums1[2] = 3 are not present in nums2. Therefore, answer[0] = [1,3].\n",
    "\n",
    "For nums2, nums2[0] = 2 is present at index 1 of nums1, whereas nums2[1] = 4 and nums2[2] = 6 are not present in nums2. Therefore, answer[1] = [4,6].\n",
    "\n",
    "</aside>"
   ]
  },
  {
   "cell_type": "markdown",
   "id": "58f91abc-6a2b-44c7-b754-241984a29aac",
   "metadata": {},
   "source": [
    "# Answer\n",
    "To find the distinct integers in two given arrays nums1 and nums2 that are not present in the other array, we can use Python's set data structure. Sets are unordered collections of distinct elements, and they have built-in operations to find differences between sets.\n",
    "\n"
   ]
  },
  {
   "cell_type": "code",
   "execution_count": 5,
   "id": "2662c603-5ae4-4c93-9bfe-fa36bcfe712a",
   "metadata": {},
   "outputs": [
    {
     "name": "stdout",
     "output_type": "stream",
     "text": [
      "[[1, 3], [4, 6]]\n"
     ]
    }
   ],
   "source": [
    "def find_missing_elements(nums1, nums2):\n",
    "    # Convert the arrays to sets for efficient set operations\n",
    "    set_nums1 = set(nums1)\n",
    "    set_nums2 = set(nums2)\n",
    "\n",
    "    # Find distinct elements in nums1 that are not present in nums2\n",
    "    distinct_nums1 = set_nums1 - set_nums2\n",
    "\n",
    "    # Find distinct elements in nums2 that are not present in nums1\n",
    "    distinct_nums2 = set_nums2 - set_nums1\n",
    "\n",
    "    # Convert the sets back to lists (as per the required output format)\n",
    "    result = [list(distinct_nums1), list(distinct_nums2)]\n",
    "\n",
    "    return result\n",
    "\n",
    "# Test example\n",
    "nums1 = [1, 2, 3]\n",
    "nums2 = [2, 4, 6]\n",
    "output = find_missing_elements(nums1, nums2)\n",
    "print(output)  # Output: [[1, 3], [4, 6]]\n"
   ]
  },
  {
   "cell_type": "markdown",
   "id": "426a01b9-9612-4ec4-b9e6-9c1180184303",
   "metadata": {},
   "source": [
    "# **Question 5**\n",
    "\n",
    "Given two integer arrays arr1 and arr2, and the integer d, *return the distance value between the two arrays*.\n",
    "\n",
    "The distance value is defined as the number of elements arr1[i] such that there is not any element arr2[j] where |arr1[i]-arr2[j]| <= d.\n",
    "\n",
    "**Example 1:**\n",
    "\n",
    "**Input:** arr1 = [4,5,8], arr2 = [10,9,1,8], d = 2\n",
    "\n",
    "**Output:** 2\n",
    "\n",
    "**Explanation:**\n",
    "\n",
    "For arr1[0]=4 we have:\n",
    "\n",
    "|4-10|=6 > d=2\n",
    "\n",
    "|4-9|=5 > d=2\n",
    "\n",
    "|4-1|=3 > d=2\n",
    "\n",
    "|4-8|=4 > d=2\n",
    "\n",
    "For arr1[1]=5 we have:\n",
    "\n",
    "|5-10|=5 > d=2\n",
    "\n",
    "|5-9|=4 > d=2\n",
    "\n",
    "|5-1|=4 > d=2\n",
    "\n",
    "|5-8|=3 > d=2\n",
    "\n",
    "For arr1[2]=8 we have:\n",
    "\n",
    "**|8-10|=2 <= d=2**\n",
    "\n",
    "**|8-9|=1 <= d=2**\n",
    "\n",
    "|8-1|=7 > d=2\n",
    "\n",
    "**|8-8|=0 <= d=2**\n",
    "\n",
    "</aside>"
   ]
  },
  {
   "cell_type": "markdown",
   "id": "994e900b-1deb-44fb-a538-2ba074e0b887",
   "metadata": {},
   "source": [
    "# Answer\n",
    "To find the distance value between two integer arrays arr1 and arr2, with the given integer d, we need to count the number of elements in arr1 for which there is no element in arr2 within a distance of d.\n",
    "\n",
    "We can achieve this by iterating over each element in arr1 and checking if there is any element in arr2 that satisfies the condition |arr1[i] - arr2[j]| <= d. If we don't find any such element in arr2, then we increment a counter, which represents the number of elements satisfying the condition."
   ]
  },
  {
   "cell_type": "code",
   "execution_count": 6,
   "id": "eb018490-82c4-43ed-8856-564914c50ea4",
   "metadata": {},
   "outputs": [
    {
     "name": "stdout",
     "output_type": "stream",
     "text": [
      "2\n"
     ]
    }
   ],
   "source": [
    "def distance_value(arr1, arr2, d):\n",
    "    count = 0\n",
    "\n",
    "    for num1 in arr1:\n",
    "        found = False\n",
    "        for num2 in arr2:\n",
    "            if abs(num1 - num2) <= d:\n",
    "                found = True\n",
    "                break\n",
    "\n",
    "        if not found:\n",
    "            count += 1\n",
    "\n",
    "    return count\n",
    "\n",
    "# Test example\n",
    "arr1 = [4, 5, 8]\n",
    "arr2 = [10, 9, 1, 8]\n",
    "d = 2\n",
    "output = distance_value(arr1, arr2, d)\n",
    "print(output)  # Output: 2\n"
   ]
  },
  {
   "cell_type": "markdown",
   "id": "444db8b0-aaff-4059-8922-18c7f4b376e7",
   "metadata": {},
   "source": [
    "# **Question 6**\n",
    "\n",
    "Given an integer array nums of length n where all the integers of nums are in the range [1, n] and each integer appears **once** or **twice**, return *an array of all the integers that appears **twice***.\n",
    "\n",
    "You must write an algorithm that runs in O(n) time and uses only constant extra space.\n",
    "\n",
    "**Example 1:**\n",
    "\n",
    "**Input:** nums = [4,3,2,7,8,2,3,1]\n",
    "\n",
    "**Output:**\n",
    "\n",
    "[2,3]\n",
    "\n",
    "</aside>"
   ]
  },
  {
   "cell_type": "markdown",
   "id": "d1ade6d0-08ee-472f-93af-1c66caca6dbe",
   "metadata": {},
   "source": [
    "# Answer\n",
    "To find all the integers that appear twice in the given integer array nums, we can utilize the fact that all the integers in the array are in the range [1, n] and each integer appears either once or twice.\n",
    "\n",
    "We can achieve this by iterating through the array and using the elements as indices to mark the presence of numbers. Specifically, for each element num, we take the absolute value of num and use it as an index. When we encounter a number num at index abs(num), we negate the value at that index. If we encounter num again while traversing the array, and the value at index abs(num) is already negative, then we know that num is a duplicate"
   ]
  },
  {
   "cell_type": "code",
   "execution_count": 7,
   "id": "28272d1c-8e77-4593-b7af-5a074c01b8b6",
   "metadata": {},
   "outputs": [
    {
     "name": "stdout",
     "output_type": "stream",
     "text": [
      "[2, 3]\n"
     ]
    }
   ],
   "source": [
    "def find_duplicates(nums):\n",
    "    duplicates = []\n",
    "    \n",
    "    for num in nums:\n",
    "        # Use the absolute value of the number as an index\n",
    "        index = abs(num)\n",
    "        \n",
    "        # Check if the value at index is negative\n",
    "        if nums[index - 1] < 0:\n",
    "            duplicates.append(index)\n",
    "        else:\n",
    "            # Negate the value at index to mark its presence\n",
    "            nums[index - 1] = -nums[index - 1]\n",
    "    \n",
    "    return duplicates\n",
    "\n",
    "# Test example\n",
    "nums = [4, 3, 2, 7, 8, 2, 3, 1]\n",
    "output = find_duplicates(nums)\n",
    "print(output)  # Output: [2, 3]\n"
   ]
  },
  {
   "cell_type": "markdown",
   "id": "aa4a4d37-d46c-4a83-8c6b-29c56f7b175b",
   "metadata": {},
   "source": [
    "# **Question 7**\n",
    "\n",
    "Suppose an array of length n sorted in ascending order is **rotated** between 1 and n times. For example, the array nums = [0,1,2,4,5,6,7] might become:\n",
    "\n",
    "- [4,5,6,7,0,1,2] if it was rotated 4 times.\n",
    "- [0,1,2,4,5,6,7] if it was rotated 7 times.\n",
    "\n",
    "Notice that **rotating** an array [a[0], a[1], a[2], ..., a[n-1]] 1 time results in the array [a[n-1], a[0], a[1], a[2], ..., a[n-2]].\n",
    "\n",
    "Given the sorted rotated array nums of **unique** elements, return *the minimum element of this array*.\n",
    "\n",
    "You must write an algorithm that runs in O(log n) time.\n",
    "\n",
    "**Example 1:**\n",
    "\n",
    "**Input:** nums = [3,4,5,1,2]\n",
    "\n",
    "**Output:** 1\n",
    "\n",
    "**Explanation:**\n",
    "\n",
    "The original array was [1,2,3,4,5] rotated 3 times.\n",
    "\n",
    "</aside>"
   ]
  },
  {
   "cell_type": "markdown",
   "id": "8bc2e25b-09d7-4737-b7b7-c42c01f57cb7",
   "metadata": {},
   "source": [
    "# Answer\n",
    "To find the minimum element in a sorted rotated array of unique elements, we can use a modified binary search algorithm. Since the array is rotated, we can't simply use the normal binary search, but we can modify the binary search to handle this situation.\n",
    "\n",
    "The idea is to compare the middle element with the rightmost element of the array. If the middle element is less than the rightmost element, it means the minimum element is on the left side of the array, including the middle element. Otherwise, it is on the right side of the array, excluding the middle element."
   ]
  },
  {
   "cell_type": "code",
   "execution_count": 8,
   "id": "467f90b2-4951-4c8b-abad-4409ef1d525e",
   "metadata": {},
   "outputs": [
    {
     "name": "stdout",
     "output_type": "stream",
     "text": [
      "1\n"
     ]
    }
   ],
   "source": [
    "def find_minimum(nums):\n",
    "    left, right = 0, len(nums) - 1\n",
    "\n",
    "    while left < right:\n",
    "        mid = left + (right - left) // 2\n",
    "\n",
    "        if nums[mid] < nums[right]:\n",
    "            # The minimum element is on the left side, including the middle element\n",
    "            right = mid\n",
    "        else:\n",
    "            # The minimum element is on the right side, excluding the middle element\n",
    "            left = mid + 1\n",
    "\n",
    "    return nums[left]\n",
    "\n",
    "# Test example\n",
    "nums = [3, 4, 5, 1, 2]\n",
    "output = find_minimum(nums)\n",
    "print(output)  # Output: 1\n"
   ]
  },
  {
   "cell_type": "markdown",
   "id": "06f40cc0-e7c9-4406-ad19-fec14fa36079",
   "metadata": {},
   "source": [
    "# **Question 8**\n",
    "\n",
    "An integer array original is transformed into a **doubled** array changed by appending **twice the value** of every element in original, and then randomly **shuffling** the resulting array.\n",
    "\n",
    "Given an array changed, return original *if* changed *is a **doubled** array. If* changed *is not a **doubled** array, return an empty array. The elements in* original *may be returned in **any** order*.\n",
    "\n",
    "**Example 1:**\n",
    "\n",
    "**Input:** changed = [1,3,4,2,6,8]\n",
    "\n",
    "**Output:** [1,3,4]\n",
    "\n",
    "**Explanation:** One possible original array could be [1,3,4]:\n",
    "\n",
    "- Twice the value of 1 is 1 * 2 = 2.\n",
    "- Twice the value of 3 is 3 * 2 = 6.\n",
    "- Twice the value of 4 is 4 * 2 = 8.\n",
    "\n",
    "Other original arrays could be [4,3,1] or [3,1,4].\n",
    "\n",
    "</aside>"
   ]
  },
  {
   "cell_type": "markdown",
   "id": "e6129e71-6565-43d7-aaa4-f8b1197ee596",
   "metadata": {},
   "source": [
    "# Answer\n",
    "To solve this problem, we can work backward to find the original array from the given doubled array changed. Since the elements in the original array are obtained by appending twice the value of each element in the original array and then shuffling, we can reverse the process to obtain the original array.\n",
    "\n",
    "We can start by finding the maximum element in the doubled array. For each element num in the original array, its doubled value will be num * 2. So, if the maximum element in the doubled array is max_val, then the original array must contain all the numbers from 1 to max_val / 2."
   ]
  },
  {
   "cell_type": "code",
   "execution_count": 9,
   "id": "27525c77-8259-4b4f-bba0-288e23f21a97",
   "metadata": {},
   "outputs": [
    {
     "name": "stdout",
     "output_type": "stream",
     "text": [
      "[1, 3, 4]\n"
     ]
    }
   ],
   "source": [
    "def find_original_array(changed):\n",
    "    if len(changed) % 2 != 0:\n",
    "        return []\n",
    "\n",
    "    # Count the occurrences of each number in the changed array\n",
    "    num_count = {}\n",
    "    for num in changed:\n",
    "        num_count[num] = num_count.get(num, 0) + 1\n",
    "\n",
    "    original = []\n",
    "    for num in sorted(changed):\n",
    "        if num_count.get(num, 0) == 0:\n",
    "            continue\n",
    "\n",
    "        # Find the doubled value of num\n",
    "        doubled_num = num * 2\n",
    "\n",
    "        # Check if the doubled value is present in the changed array\n",
    "        if num_count.get(doubled_num, 0) > 0:\n",
    "            original.append(num)\n",
    "            # Reduce the counts of num and doubled_num\n",
    "            num_count[num] -= 1\n",
    "            num_count[doubled_num] -= 1\n",
    "        else:\n",
    "            # If the doubled value is not present, then changed is not a doubled array\n",
    "            return []\n",
    "\n",
    "    return original\n",
    "\n",
    "# Test example\n",
    "changed = [1, 3, 4, 2, 6, 8]\n",
    "output = find_original_array(changed)\n",
    "print(output)  # Output: [1, 3, 4]\n"
   ]
  },
  {
   "cell_type": "code",
   "execution_count": null,
   "id": "1a457079-9dbf-46fc-ba56-ffc146e1688a",
   "metadata": {},
   "outputs": [],
   "source": []
  }
 ],
 "metadata": {
  "kernelspec": {
   "display_name": "Python 3 (ipykernel)",
   "language": "python",
   "name": "python3"
  },
  "language_info": {
   "codemirror_mode": {
    "name": "ipython",
    "version": 3
   },
   "file_extension": ".py",
   "mimetype": "text/x-python",
   "name": "python",
   "nbconvert_exporter": "python",
   "pygments_lexer": "ipython3",
   "version": "3.10.8"
  }
 },
 "nbformat": 4,
 "nbformat_minor": 5
}
