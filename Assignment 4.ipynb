{
 "cells": [
  {
   "cell_type": "markdown",
   "id": "aceeea7a-2d56-4583-a9f4-9400efb11339",
   "metadata": {},
   "source": [
    "# **Question 1**\n",
    "Given three integer arrays arr1, arr2 and arr3 **sorted** in **strictly increasing** order, return a sorted array of **only** the integers that appeared in **all** three arrays.\n",
    "\n",
    "**Example 1:**\n",
    "\n",
    "Input: arr1 = [1,2,3,4,5], arr2 = [1,2,5,7,9], arr3 = [1,3,4,5,8]\n",
    "\n",
    "Output: [1,5]\n",
    "\n",
    "**Explanation:** Only 1 and 5 appeared in the three arrays.\n"
   ]
  },
  {
   "cell_type": "markdown",
   "id": "51781ea8-481b-4743-a369-2bb9bfb75e95",
   "metadata": {},
   "source": [
    "# Answer\n",
    "To find the integers that appear in all three sorted arrays (arr1, arr2, and arr3), we can follow a simple algorithm. Since the arrays are sorted in strictly increasing order, we can iterate through the arrays simultaneously to find common elements efficiently. The basic idea is to maintain three pointers, one for each array, and move the pointers based on a comparison to find common elements."
   ]
  },
  {
   "cell_type": "code",
   "execution_count": 2,
   "id": "4468bd96-2774-406a-b160-adbf077c7972",
   "metadata": {},
   "outputs": [
    {
     "name": "stdout",
     "output_type": "stream",
     "text": [
      "[1, 5]\n"
     ]
    }
   ],
   "source": [
    "def find_common_elements(arr1, arr2, arr3):\n",
    "    result = []\n",
    "    ptr1, ptr2, ptr3 = 0, 0, 0\n",
    "\n",
    "    while ptr1 < len(arr1) and ptr2 < len(arr2) and ptr3 < len(arr3):\n",
    "        if arr1[ptr1] == arr2[ptr2] == arr3[ptr3]:\n",
    "            result.append(arr1[ptr1])\n",
    "            ptr1 += 1\n",
    "            ptr2 += 1\n",
    "            ptr3 += 1\n",
    "        elif arr1[ptr1] < arr2[ptr2]:\n",
    "            ptr1 += 1\n",
    "        elif arr2[ptr2] < arr3[ptr3]:\n",
    "            ptr2 += 1\n",
    "        else:\n",
    "            ptr3 += 1\n",
    "\n",
    "    return result\n",
    "\n",
    "# Test Example 1\n",
    "arr1 = [1, 2, 3, 4, 5]\n",
    "arr2 = [1, 2, 5, 7, 9]\n",
    "arr3 = [1, 3, 4, 5, 8]\n",
    "output = find_common_elements(arr1, arr2, arr3)\n",
    "print(output)  # Output: [1, 5]\n"
   ]
  },
  {
   "cell_type": "markdown",
   "id": "146d2b7e-ae48-481c-b3e2-1b0a397b110b",
   "metadata": {},
   "source": [
    "# **Question 2**\n",
    "\n",
    "Given two **0-indexed** integer arrays nums1 and nums2, return *a list* answer *of size* 2 *where:*\n",
    "\n",
    "- answer[0] *is a list of all **distinct** integers in* nums1 *which are **not** present in* nums2*.*\n",
    "- answer[1] *is a list of all **distinct** integers in* nums2 *which are **not** present in* nums1.\n",
    "\n",
    "**Note** that the integers in the lists may be returned in **any** order.\n",
    "\n",
    "**Example 1:**\n",
    "\n",
    "**Input:** nums1 = [1,2,3], nums2 = [2,4,6]\n",
    "\n",
    "**Output:** [[1,3],[4,6]]\n",
    "\n",
    "**Explanation:**\n",
    "\n",
    "For nums1, nums1[1] = 2 is present at index 0 of nums2, whereas nums1[0] = 1 and nums1[2] = 3 are not present in nums2. Therefore, answer[0] = [1,3].\n",
    "\n",
    "For nums2, nums2[0] = 2 is present at index 1 of nums1, whereas nums2[1] = 4 and nums2[2] = 6 are not present in nums2. Therefore, answer[1] = [4,6].\n",
    "\n",
    "</aside>"
   ]
  },
  {
   "cell_type": "markdown",
   "id": "cb77e1a4-4ed2-4edf-bb76-91c335113b12",
   "metadata": {},
   "source": [
    "# Answer\n",
    "To find the distinct integers in two given arrays nums1 and nums2, which are not present in the other array, we can use Python sets to efficiently perform the operations.\n",
    "\n"
   ]
  },
  {
   "cell_type": "code",
   "execution_count": 3,
   "id": "39d00cb0-7db0-4db8-9469-d0930d53e66a",
   "metadata": {},
   "outputs": [
    {
     "name": "stdout",
     "output_type": "stream",
     "text": [
      "[[1, 3], [4, 6]]\n"
     ]
    }
   ],
   "source": [
    "def find_unique_elements(nums1, nums2):\n",
    "    set_nums1 = set(nums1)\n",
    "    set_nums2 = set(nums2)\n",
    "\n",
    "    unique_nums1 = list(set_nums1 - set_nums2)\n",
    "    unique_nums2 = list(set_nums2 - set_nums1)\n",
    "\n",
    "    return [unique_nums1, unique_nums2]\n",
    "\n",
    "# Test Example 1\n",
    "nums1 = [1, 2, 3]\n",
    "nums2 = [2, 4, 6]\n",
    "output = find_unique_elements(nums1, nums2)\n",
    "print(output)  # Output: [[1, 3], [4, 6]]\n"
   ]
  },
  {
   "cell_type": "markdown",
   "id": "4fc1e2e8-ac3b-4bfc-8e09-83864549043c",
   "metadata": {},
   "source": [
    "# **Question 3**\n",
    "Given a 2D integer array matrix, return *the **transpose** of* matrix.\n",
    "\n",
    "The **transpose** of a matrix is the matrix flipped over its main diagonal, switching the matrix's row and column indices.\n",
    "\n",
    "**Example 1:**\n",
    "\n",
    "Input: matrix = [[1,2,3],[4,5,6],[7,8,9]]\n",
    "\n",
    "Output: [[1,4,7],[2,5,8],[3,6,9]]\n",
    "\n",
    "</aside>"
   ]
  },
  {
   "cell_type": "markdown",
   "id": "6d5e3057-821b-4a63-87c9-07a5ebf869c7",
   "metadata": {},
   "source": [
    "# Answer\n",
    "To find the transpose of a given 2D integer matrix, we can iterate through the matrix and swap the elements at position (i, j) with the elements at position (j, i). This process effectively flips the matrix over its main diagonal."
   ]
  },
  {
   "cell_type": "code",
   "execution_count": 5,
   "id": "913ad07e-f46d-431a-99af-02d271a79f85",
   "metadata": {},
   "outputs": [
    {
     "name": "stdout",
     "output_type": "stream",
     "text": [
      "[[1, 4, 7], [2, 5, 8], [3, 6, 9]]\n"
     ]
    }
   ],
   "source": [
    "def transpose_matrix(matrix):\n",
    "    rows = len(matrix)\n",
    "    cols = len(matrix[0])\n",
    "\n",
    "    # Initialize a new matrix with swapped rows and columns\n",
    "    transpose = [[0 for _ in range(rows)] for _ in range(cols)]\n",
    "\n",
    "    for i in range(rows):\n",
    "        for j in range(cols):\n",
    "            transpose[j][i] = matrix[i][j]\n",
    "\n",
    "    return transpose\n",
    "\n",
    "# Test Example 1\n",
    "matrix = [[1, 2, 3], [4, 5, 6], [7, 8, 9]]\n",
    "output = transpose_matrix(matrix)\n",
    "print(output)  # Output: [[1, 4, 7], [2, 5, 8], [3, 6, 9]]\n"
   ]
  },
  {
   "cell_type": "markdown",
   "id": "e0acb078-1179-4ea5-b969-921776ea8320",
   "metadata": {},
   "source": [
    "# 💡 **Question 4**\n",
    "Given an integer array nums of 2n integers, group these integers into n pairs (a1, b1), (a2, b2), ..., (an, bn) such that the sum of min(ai, bi) for all i is **maximized**. Return *the maximized sum*.\n",
    "\n",
    "**Example 1:**\n",
    "\n",
    "Input: nums = [1,4,3,2]\n",
    "\n",
    "Output: 4\n",
    "\n",
    "**Explanation:** All possible pairings (ignoring the ordering of elements) are:\n",
    "\n",
    "1. (1, 4), (2, 3) -> min(1, 4) + min(2, 3) = 1 + 2 = 3\n",
    "\n",
    "2. (1, 3), (2, 4) -> min(1, 3) + min(2, 4) = 1 + 2 = 3\n",
    "\n",
    "3. (1, 2), (3, 4) -> min(1, 2) + min(3, 4) = 1 + 3 = 4\n",
    "\n",
    "So the maximum possible sum is 4.\n"
   ]
  },
  {
   "cell_type": "markdown",
   "id": "856324fa-6683-4db9-a804-565d091a53b5",
   "metadata": {},
   "source": [
    "# Answer\n",
    "To maximize the sum of the minimum elements in each pair, we should pair the numbers that are closest to each other. If we sort the given array, the elements that are closest to each other will end up being paired, which will maximize the sum."
   ]
  },
  {
   "cell_type": "code",
   "execution_count": 7,
   "id": "5e67201e-7bcf-4ce1-aa54-6ecd6a0c923a",
   "metadata": {},
   "outputs": [
    {
     "name": "stdout",
     "output_type": "stream",
     "text": [
      "4\n"
     ]
    }
   ],
   "source": [
    "def array_pair_sum(nums):\n",
    "    nums.sort()  # Sort the array in ascending order\n",
    "    max_sum = 0\n",
    "\n",
    "    for i in range(0, len(nums), 2):\n",
    "        max_sum += nums[i]\n",
    "\n",
    "    return max_sum\n",
    "\n",
    "# Test Example 1\n",
    "nums = [1, 4, 3, 2]\n",
    "output = array_pair_sum(nums)\n",
    "print(output)  # Output: 4\n"
   ]
  },
  {
   "cell_type": "markdown",
   "id": "8f9864ff-1136-4765-86ea-7523e88ac7ae",
   "metadata": {},
   "source": [
    "# **Question 5**\n",
    "You have n coins and you want to build a staircase with these coins. The staircase consists of k rows where the ith row has exactly i coins. The last row of the staircase **may be** incomplete.\n",
    "\n",
    "Given the integer n, return *the number of **complete rows** of the staircase you will build*.\n",
    "\n",
    "**Example 1:**\n",
    "\n",
    "[]()\n",
    "\n",
    "![v2.jpg](https://s3-us-west-2.amazonaws.com/secure.notion-static.com/4bd91cfa-d2b1-47b3-8197-a72e8dcfff4b/v2.jpg)\n",
    "\n",
    "**Input:** n = 5\n",
    "\n",
    "**Output:** 2\n",
    "\n",
    "**Explanation:** Because the 3rd row is incomplete, we return 2.\n",
    "\n",
    "</aside>"
   ]
  },
  {
   "cell_type": "markdown",
   "id": "f4995460-7a03-4192-ba2c-4d38f922bc70",
   "metadata": {},
   "source": [
    "# Answer\n",
    "To find the number of complete rows in the staircase made of n coins, we can use a simple algorithm to calculate the sum of consecutive natural numbers until their sum is less than or equal to n. This sum will give us the number of coins used for complete rows"
   ]
  },
  {
   "cell_type": "code",
   "execution_count": 9,
   "id": "6f8f430d-e2ca-492e-8b5e-e5cecd789629",
   "metadata": {},
   "outputs": [
    {
     "name": "stdout",
     "output_type": "stream",
     "text": [
      "2\n"
     ]
    }
   ],
   "source": [
    "def complete_staircase_rows(n):\n",
    "    complete_rows = 0\n",
    "    coins_used = 0\n",
    "    i = 1\n",
    "\n",
    "    while coins_used + i <= n:\n",
    "        coins_used += i\n",
    "        complete_rows += 1\n",
    "        i += 1\n",
    "\n",
    "    return complete_rows\n",
    "\n",
    "# Test Example 1\n",
    "n = 5\n",
    "output = complete_staircase_rows(n)\n",
    "print(output)  # Output: 2\n"
   ]
  },
  {
   "cell_type": "markdown",
   "id": "d3e1a0f6-f66e-47cf-a990-3033357ec84a",
   "metadata": {},
   "source": [
    "# *Question 6**\n",
    "Given an integer array nums sorted in **non-decreasing** order, return *an array of **the squares of each number** sorted in non-decreasing order*.\n",
    "\n",
    "**Example 1:**\n",
    "\n",
    "Input: nums = [-4,-1,0,3,10]\n",
    "\n",
    "Output: [0,1,9,16,100]\n",
    "\n",
    "**Explanation:** After squaring, the array becomes [16,1,0,9,100].\n",
    "After sorting, it becomes [0,1,9,16,100]\n",
    "\n",
    "</aside>"
   ]
  },
  {
   "cell_type": "markdown",
   "id": "bede915d-5dbd-4111-a523-6baaae89100e",
   "metadata": {},
   "source": [
    "# Answer\n",
    "To return an array of the squares of each number in the given array nums, which is sorted in non-decreasing order, we can use a two-pointer approach. We start with two pointers, one at the beginning and the other at the end of the array. We compare the squares of the numbers at these pointers and place the larger squared value at the end of a new result array."
   ]
  },
  {
   "cell_type": "code",
   "execution_count": 11,
   "id": "2fe70cc8-50f8-432b-b44e-44b0121c8fe0",
   "metadata": {},
   "outputs": [
    {
     "name": "stdout",
     "output_type": "stream",
     "text": [
      "[0, 1, 9, 16, 100]\n"
     ]
    }
   ],
   "source": [
    "def sorted_squares(nums):\n",
    "    left, right = 0, len(nums) - 1\n",
    "    result = [0] * len(nums)\n",
    "    idx = len(nums) - 1\n",
    "\n",
    "    while left <= right:\n",
    "        left_square = nums[left] * nums[left]\n",
    "        right_square = nums[right] * nums[right]\n",
    "\n",
    "        if left_square >= right_square:\n",
    "            result[idx] = left_square\n",
    "            left += 1\n",
    "        else:\n",
    "            result[idx] = right_square\n",
    "            right -= 1\n",
    "\n",
    "        idx -= 1\n",
    "\n",
    "    return result\n",
    "\n",
    "# Test Example 1\n",
    "nums = [-4, -1, 0, 3, 10]\n",
    "output = sorted_squares(nums)\n",
    "print(output)  # Output: [0, 1, 9, 16, 100]\n"
   ]
  },
  {
   "cell_type": "markdown",
   "id": "74d28f62-f349-4f2c-b7db-f180f079b828",
   "metadata": {},
   "source": [
    "# **Question 7**\n",
    "You are given an m x n matrix M initialized with all 0's and an array of operations ops, where ops[i] = [ai, bi] means M[x][y] should be incremented by one for all 0 <= x < ai and 0 <= y < bi.\n",
    "\n",
    "Count and return *the number of maximum integers in the matrix after performing all the operations*\n",
    "\n",
    "**Example 1:**\n",
    "\n",
    "![q4.jpg](https://s3-us-west-2.amazonaws.com/secure.notion-static.com/4d0890d0-7bc7-4f59-be8e-352d9f3c1c52/q4.jpg)\n",
    "\n",
    "**Input:** m = 3, n = 3, ops = [[2,2],[3,3]]\n",
    "\n",
    "**Output:** 4\n",
    "\n",
    "**Explanation:** The maximum integer in M is 2, and there are four of it in M. So return 4\n",
    "\n",
    "</aside>"
   ]
  },
  {
   "cell_type": "markdown",
   "id": "81d7fb7b-a90c-4810-98f4-4db163c3ab20",
   "metadata": {},
   "source": [
    "# Answer\n",
    "To count the number of maximum integers in the matrix after performing the given operations, we can simulate the process of incrementing the matrix elements based on the ops array and then find the maximum integer and its frequency in the resulting matrix.\n",
    "\n"
   ]
  },
  {
   "cell_type": "code",
   "execution_count": 12,
   "id": "f529add2-b61f-4671-b6c9-0e31eb83af3d",
   "metadata": {},
   "outputs": [
    {
     "name": "stdout",
     "output_type": "stream",
     "text": [
      "4\n"
     ]
    }
   ],
   "source": [
    "def max_integers_after_operations(m, n, ops):\n",
    "    if not ops:\n",
    "        return m * n\n",
    "\n",
    "    min_x, min_y = min(op[0] for op in ops), min(op[1] for op in ops)\n",
    "    return min_x * min_y\n",
    "\n",
    "# Test Example 1\n",
    "m = 3\n",
    "n = 3\n",
    "ops = [[2, 2], [3, 3]]\n",
    "output = max_integers_after_operations(m, n, ops)\n",
    "print(output)  # Output: 4\n"
   ]
  },
  {
   "cell_type": "markdown",
   "id": "367c7c0d-4036-4a25-a7fd-a06f6203f555",
   "metadata": {},
   "source": [
    "# **Question 8**\n",
    "\n",
    "Given the array nums consisting of 2n elements in the form [x1,x2,...,xn,y1,y2,...,yn].\n",
    "\n",
    "*Return the array in the form* [x1,y1,x2,y2,...,xn,yn].\n",
    "\n",
    "**Example 1:**\n",
    "\n",
    "**Input:** nums = [2,5,1,3,4,7], n = 3\n",
    "\n",
    "**Output:** [2,3,5,4,1,7]\n",
    "\n",
    "**Explanation:** Since x1=2, x2=5, x3=1, y1=3, y2=4, y3=7 then the answer is [2,3,5,4,1,7].\n",
    "\n",
    "</aside>"
   ]
  },
  {
   "cell_type": "code",
   "execution_count": 13,
   "id": "93384ca0-6607-4b31-a302-0c30facf7482",
   "metadata": {},
   "outputs": [],
   "source": [
    "# Answer"
   ]
  },
  {
   "cell_type": "code",
   "execution_count": null,
   "id": "6f7b9f13-c974-4ec6-9967-f24d46477485",
   "metadata": {},
   "outputs": [],
   "source": []
  }
 ],
 "metadata": {
  "kernelspec": {
   "display_name": "Python 3 (ipykernel)",
   "language": "python",
   "name": "python3"
  },
  "language_info": {
   "codemirror_mode": {
    "name": "ipython",
    "version": 3
   },
   "file_extension": ".py",
   "mimetype": "text/x-python",
   "name": "python",
   "nbconvert_exporter": "python",
   "pygments_lexer": "ipython3",
   "version": "3.10.8"
  }
 },
 "nbformat": 4,
 "nbformat_minor": 5
}
