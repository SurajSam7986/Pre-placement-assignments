{
 "cells": [
  {
   "cell_type": "markdown",
   "id": "9ad2a16f-16a2-48f1-89c3-4dbfffa1966e",
   "metadata": {},
   "source": [
    "# **Question 1**\n",
    "\n",
    "Given two strings s and t, *determine if they are isomorphic*.\n",
    "\n",
    "Two strings s and t are isomorphic if the characters in s can be replaced to get t.\n",
    "\n",
    "All occurrences of a character must be replaced with another character while preserving the order of characters. No two characters may map to the same character, but a character may map to itself.\n",
    "\n",
    "**Example 1:**\n",
    "\n",
    "**Input:** s = \"egg\", t = \"add\"\n",
    "\n",
    "**Output:** true\n",
    "\n",
    "</aside>"
   ]
  },
  {
   "cell_type": "code",
   "execution_count": 1,
   "id": "ea5eab85-93c1-40db-b54d-1910228f5e3f",
   "metadata": {},
   "outputs": [
    {
     "name": "stdout",
     "output_type": "stream",
     "text": [
      "True\n"
     ]
    }
   ],
   "source": [
    "def are_isomorphic(s, t):\n",
    "    if len(s) != len(t):\n",
    "        return False\n",
    "\n",
    "    s_to_t_map = {}\n",
    "    t_to_s_map = {}\n",
    "\n",
    "    for s_char, t_char in zip(s, t):\n",
    "        if s_char in s_to_t_map:\n",
    "            if s_to_t_map[s_char] != t_char:\n",
    "                return False\n",
    "        else:\n",
    "            s_to_t_map[s_char] = t_char\n",
    "\n",
    "        if t_char in t_to_s_map:\n",
    "            if t_to_s_map[t_char] != s_char:\n",
    "                return False\n",
    "        else:\n",
    "            t_to_s_map[t_char] = s_char\n",
    "\n",
    "    mapped_s = ''.join(s_to_t_map[char] for char in s)\n",
    "\n",
    "    return mapped_s == t\n",
    "\n",
    "# Test example\n",
    "s = \"egg\"\n",
    "t = \"add\"\n",
    "print(are_isomorphic(s, t))  # Output: True\n"
   ]
  },
  {
   "cell_type": "markdown",
   "id": "6d0ad21e-4cac-4f42-adb3-6eabc9e5d895",
   "metadata": {},
   "source": [
    "# **Question 2**\n",
    "\n",
    "Given a string num which represents an integer, return true *if* num *is a **strobogrammatic number***.\n",
    "\n",
    "A **strobogrammatic number** is a number that looks the same when rotated 180 degrees (looked at upside down).\n",
    "\n",
    "**Example 1:**\n",
    "\n",
    "**Input:** num = \"69\"\n",
    "\n",
    "**Output:**\n",
    "\n",
    "true\n",
    "\n",
    "</aside>"
   ]
  },
  {
   "cell_type": "code",
   "execution_count": 2,
   "id": "2cb9dc2b-0594-401b-b8ae-30b6487453c4",
   "metadata": {},
   "outputs": [
    {
     "name": "stdout",
     "output_type": "stream",
     "text": [
      "True\n"
     ]
    }
   ],
   "source": [
    "def is_strobogrammatic(num):\n",
    "    # Define a dictionary to represent valid rotation counterparts\n",
    "    strobogrammatic_map = {\n",
    "        '0': '0',\n",
    "        '1': '1',\n",
    "        '6': '9',\n",
    "        '8': '8',\n",
    "        '9': '6'\n",
    "    }\n",
    "\n",
    "    # Initialize two pointers for checking palindrome property\n",
    "    left, right = 0, len(num) - 1\n",
    "\n",
    "    while left <= right:\n",
    "        left_char, right_char = num[left], num[right]\n",
    "\n",
    "        # Check if both characters have valid rotation counterparts\n",
    "        if left_char not in strobogrammatic_map or right_char not in strobogrammatic_map:\n",
    "            return False\n",
    "\n",
    "        # Check if the characters' rotation counterparts match\n",
    "        if strobogrammatic_map[left_char] != right_char:\n",
    "            return False\n",
    "\n",
    "        left += 1\n",
    "        right -= 1\n",
    "\n",
    "    return True\n",
    "\n",
    "# Test example\n",
    "num = \"69\"\n",
    "print(is_strobogrammatic(num))  # Output: True\n"
   ]
  },
  {
   "cell_type": "markdown",
   "id": "2fb88b7b-4573-4cff-9054-da498b7b4f44",
   "metadata": {},
   "source": [
    "# **Question 3**\n",
    "\n",
    "Given two non-negative integers, num1 and num2 represented as string, return *the sum of* num1 *and* num2 *as a string*.\n",
    "\n",
    "You must solve the problem without using any built-in library for handling large integers (such as BigInteger). You must also not convert the inputs to integers directly.\n",
    "\n",
    "**Example 1:**\n",
    "\n",
    "**Input:** num1 = \"11\", num2 = \"123\"\n",
    "\n",
    "**Output:**\n",
    "\n",
    "\"134\"\n",
    "\n",
    "</aside>"
   ]
  },
  {
   "cell_type": "code",
   "execution_count": 3,
   "id": "afb962b3-a95f-4072-bce2-de8fc58b20c3",
   "metadata": {},
   "outputs": [
    {
     "name": "stdout",
     "output_type": "stream",
     "text": [
      "134\n"
     ]
    }
   ],
   "source": [
    "def add_strings(num1, num2):\n",
    "    # Initialize variables to store the result and carry\n",
    "    result = []\n",
    "    carry = 0\n",
    "\n",
    "    # Iterate from right to left, adding digits from both numbers\n",
    "    i, j = len(num1) - 1, len(num2) - 1\n",
    "    while i >= 0 or j >= 0:\n",
    "        # Get the current digits from both numbers (if available)\n",
    "        digit1 = int(num1[i]) if i >= 0 else 0\n",
    "        digit2 = int(num2[j]) if j >= 0 else 0\n",
    "\n",
    "        # Add the digits and the carry from the previous iteration\n",
    "        total_sum = digit1 + digit2 + carry\n",
    "\n",
    "        # Calculate the new carry and the current digit of the result\n",
    "        carry = total_sum // 10\n",
    "        current_digit = total_sum % 10\n",
    "\n",
    "        # Add the current digit to the result (as a character)\n",
    "        result.append(str(current_digit))\n",
    "\n",
    "        # Move to the next digit in both numbers\n",
    "        i -= 1\n",
    "        j -= 1\n",
    "\n",
    "    # If there is a carry left after the iteration, add it to the result\n",
    "    if carry:\n",
    "        result.append(str(carry))\n",
    "\n",
    "    # Reverse the result and join the characters to form the final sum as a string\n",
    "    return ''.join(result[::-1])\n",
    "\n",
    "# Test example\n",
    "num1 = \"11\"\n",
    "num2 = \"123\"\n",
    "print(add_strings(num1, num2))  # Output: \"134\"\n"
   ]
  },
  {
   "cell_type": "markdown",
   "id": "fb056c6d-5eed-4c3f-9343-056906f8b0b5",
   "metadata": {},
   "source": [
    "# **Question 4**\n",
    "\n",
    "Given a string s, reverse the order of characters in each word within a sentence while still preserving whitespace and initial word order.\n",
    "\n",
    "**Example 1:**\n",
    "\n",
    "**Input:** s = \"Let's take LeetCode contest\"\n",
    "\n",
    "**Output:** \"s'teL ekat edoCteeL tsetnoc\"\n",
    "\n",
    "</aside>"
   ]
  },
  {
   "cell_type": "code",
   "execution_count": 4,
   "id": "bc4f40a8-80e5-4a5c-b193-baffa451078b",
   "metadata": {},
   "outputs": [
    {
     "name": "stdout",
     "output_type": "stream",
     "text": [
      "s'teL ekat edoCteeL tsetnoc\n"
     ]
    }
   ],
   "source": [
    "def reverse_words_in_sentence(s):\n",
    "    # Split the input sentence into individual words\n",
    "    words = s.split()\n",
    "\n",
    "    # Reverse the characters in each word\n",
    "    reversed_words = [word[::-1] for word in words]\n",
    "\n",
    "    # Join the reversed words back together with whitespaces\n",
    "    reversed_sentence = ' '.join(reversed_words)\n",
    "\n",
    "    return reversed_sentence\n",
    "\n",
    "# Test example\n",
    "s = \"Let's take LeetCode contest\"\n",
    "print(reverse_words_in_sentence(s))  # Output: \"s'teL ekat edoCteeL tsetnoc\"\n"
   ]
  },
  {
   "cell_type": "markdown",
   "id": "cf128667-0458-4640-8353-f0da3817baf1",
   "metadata": {},
   "source": [
    "# **Question 5**\n",
    "\n",
    "Given a string s and an integer k, reverse the first k characters for every 2k characters counting from the start of the string.\n",
    "\n",
    "If there are fewer than k characters left, reverse all of them. If there are less than 2k but greater than or equal to k characters, then reverse the first k characters and leave the other as original.\n",
    "\n",
    "**Example 1:**\n",
    "\n",
    "**Input:** s = \"abcdefg\", k = 2\n",
    "\n",
    "**Output:**\n",
    "\n",
    "\"bacdfeg\"\n",
    "\n",
    "</aside>"
   ]
  },
  {
   "cell_type": "code",
   "execution_count": 5,
   "id": "0c3f6f13-152f-4d42-9b3e-1389f49e54bc",
   "metadata": {},
   "outputs": [
    {
     "name": "stdout",
     "output_type": "stream",
     "text": [
      "bacdfeg\n"
     ]
    }
   ],
   "source": [
    "def reverse_k_groups(s, k):\n",
    "    result = \"\"\n",
    "\n",
    "    for i in range(0, len(s), 2 * k):\n",
    "        # Reverse the first k characters of each group\n",
    "        group = s[i:i + k][::-1]\n",
    "\n",
    "        # Append the first k reversed characters and the remaining characters (if any) to the result\n",
    "        result += group + s[i + k:i + 2 * k]\n",
    "\n",
    "    return result\n",
    "\n",
    "# Test example\n",
    "s = \"abcdefg\"\n",
    "k = 2\n",
    "print(reverse_k_groups(s, k))  # Output: \"bacdfeg\"\n"
   ]
  },
  {
   "cell_type": "markdown",
   "id": "06e0d0f3-741e-4db6-a4e8-0caef0a3e731",
   "metadata": {},
   "source": [
    "# **Question 6**\n",
    "\n",
    "Given two strings s and goal, return true *if and only if* s *can become* goal *after some number of **shifts** on* s.\n",
    "\n",
    "A **shift** on s consists of moving the leftmost character of s to the rightmost position.\n",
    "\n",
    "- For example, if s = \"abcde\", then it will be \"bcdea\" after one shift.\n",
    "\n",
    "**Example 1:**\n",
    "\n",
    "**Input:** s = \"abcde\", goal = \"cdeab\"\n",
    "\n",
    "**Output:**\n",
    "\n",
    "true\n",
    "\n",
    "</aside>"
   ]
  },
  {
   "cell_type": "code",
   "execution_count": null,
   "id": "cd77b0c3-e062-4187-947e-3a4178bf4049",
   "metadata": {},
   "outputs": [],
   "source": []
  },
  {
   "cell_type": "markdown",
   "id": "c49d24e0-0dd7-437d-a3ee-b2ba00dee4f5",
   "metadata": {},
   "source": [
    "# **Question 7**\n",
    "\n",
    "Given two strings s and t, return true *if they are equal when both are typed into empty text editors*. '#' means a backspace character.\n",
    "\n",
    "Note that after backspacing an empty text, the text will continue empty.\n",
    "\n",
    "**Example 1:**\n",
    "\n",
    "**Input:** s = \"ab#c\", t = \"ad#c\"\n",
    "\n",
    "**Output:** true\n",
    "\n",
    "**Explanation:**\n",
    "\n",
    "Both s and t become \"ac\".\n",
    "\n",
    "</aside>"
   ]
  },
  {
   "cell_type": "code",
   "execution_count": 7,
   "id": "90450259-7c7c-4545-b049-8dfbe98c83ea",
   "metadata": {},
   "outputs": [
    {
     "name": "stdout",
     "output_type": "stream",
     "text": [
      "True\n"
     ]
    }
   ],
   "source": [
    "def process_string(s):\n",
    "    stack = []\n",
    "    for char in s:\n",
    "        if char == '#':\n",
    "            if stack:\n",
    "                stack.pop()\n",
    "        else:\n",
    "            stack.append(char)\n",
    "    return stack\n",
    "\n",
    "def are_equal_after_typing(s, t):\n",
    "    processed_s = process_string(s)\n",
    "    processed_t = process_string(t)\n",
    "\n",
    "    return processed_s == processed_t\n",
    "\n",
    "# Test example\n",
    "s = \"ab#c\"\n",
    "t = \"ad#c\"\n",
    "print(are_equal_after_typing(s, t))  # Output: True\n"
   ]
  },
  {
   "cell_type": "markdown",
   "id": "0034858c-aa44-4e4f-9925-55561d1ff0f4",
   "metadata": {},
   "source": [
    "# **Question 8**\n",
    "\n",
    "You are given an array coordinates, coordinates[i] = [x, y], where [x, y] represents the coordinate of a point. Check if these points make a straight line in the XY plane.\n",
    "\n",
    "**Example 1:**\n",
    "\n",
    "**Input:** coordinates = [[1,2],[2,3],[3,4],[4,5],[5,6],[6,7]]\n",
    "\n",
    "**Output:** true"
   ]
  },
  {
   "cell_type": "code",
   "execution_count": null,
   "id": "3a50e2c4-d515-4612-a9f4-a3791475c962",
   "metadata": {},
   "outputs": [],
   "source": []
  }
 ],
 "metadata": {
  "kernelspec": {
   "display_name": "Python 3 (ipykernel)",
   "language": "python",
   "name": "python3"
  },
  "language_info": {
   "codemirror_mode": {
    "name": "ipython",
    "version": 3
   },
   "file_extension": ".py",
   "mimetype": "text/x-python",
   "name": "python",
   "nbconvert_exporter": "python",
   "pygments_lexer": "ipython3",
   "version": "3.10.8"
  }
 },
 "nbformat": 4,
 "nbformat_minor": 5
}
